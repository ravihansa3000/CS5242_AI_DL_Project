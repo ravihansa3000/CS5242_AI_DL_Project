{
 "cells": [
  {
   "cell_type": "code",
   "execution_count": 1,
   "metadata": {
    "collapsed": true
   },
   "outputs": [],
   "source": [
    "import torch\n",
    "from torch import nn\n",
    "import torch.nn.functional as F\n"
   ]
  },
  {
   "cell_type": "code",
   "execution_count": 11,
   "outputs": [
    {
     "name": "stdout",
     "output_type": "stream",
     "text": [
      "tensor([[ 1.1893, -0.6466,  0.5855],\n",
      "        [ 0.8463, -0.8287, -1.5870]])\n",
      "tensor([[-1.4208,  0.3020,  0.5809],\n",
      "        [-0.1431, -1.0845,  0.5382]])\n"
     ]
    },
    {
     "data": {
      "text/plain": "tensor([[[ 1.1893, -0.6466,  0.5855],\n         [-1.4208,  0.3020,  0.5809]],\n\n        [[ 0.8463, -0.8287, -1.5870],\n         [-0.1431, -1.0845,  0.5382]]])"
     },
     "execution_count": 11,
     "metadata": {},
     "output_type": "execute_result"
    }
   ],
   "source": [
    "x = torch.randn(2, 3)\n",
    "y = torch.randn(2, 3)\n",
    "print(x)\n",
    "print(y)\n",
    "\n",
    "list1 = []\n",
    "list1.append(x)\n",
    "list1.append(y)\n",
    "\n",
    "torch.stack(list1, 1)"
   ],
   "metadata": {
    "collapsed": false,
    "pycharm": {
     "name": "#%%\n"
    }
   }
  },
  {
   "cell_type": "code",
   "execution_count": 14,
   "outputs": [
    {
     "data": {
      "text/plain": "tensor([[[ 1.1893, -0.6466,  0.5855],\n         [ 0.8463, -0.8287, -1.5870]],\n\n        [[-1.4208,  0.3020,  0.5809],\n         [-0.1431, -1.0845,  0.5382]]])"
     },
     "execution_count": 14,
     "metadata": {},
     "output_type": "execute_result"
    }
   ],
   "source": [
    "torch.stack(list1, 0)"
   ],
   "metadata": {
    "collapsed": false,
    "pycharm": {
     "name": "#%%\n"
    }
   }
  }
 ],
 "metadata": {
  "kernelspec": {
   "display_name": "Python 3",
   "language": "python",
   "name": "python3"
  },
  "language_info": {
   "codemirror_mode": {
    "name": "ipython",
    "version": 2
   },
   "file_extension": ".py",
   "mimetype": "text/x-python",
   "name": "python",
   "nbconvert_exporter": "python",
   "pygments_lexer": "ipython2",
   "version": "2.7.6"
  }
 },
 "nbformat": 4,
 "nbformat_minor": 0
}